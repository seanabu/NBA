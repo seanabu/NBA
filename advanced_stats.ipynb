{
 "cells": [
  {
   "cell_type": "code",
   "execution_count": 2,
   "metadata": {
    "collapsed": true
   },
   "outputs": [],
   "source": [
    "import requests, json\n",
    "import MySQLdb\n",
    "import re"
   ]
  },
  {
   "cell_type": "code",
   "execution_count": 2,
   "metadata": {
    "collapsed": true
   },
   "outputs": [],
   "source": [
    "gameids = list(range(21400001, 21401231, 1))"
   ]
  },
  {
   "cell_type": "code",
   "execution_count": 1,
   "metadata": {
    "collapsed": true
   },
   "outputs": [],
   "source": [
    "gamesss= list(range(21400001, 21400003, 1))"
   ]
  },
  {
   "cell_type": "code",
   "execution_count": 3,
   "metadata": {
    "collapsed": true
   },
   "outputs": [],
   "source": [
    "def get_advanced_box(gameID):\n",
    "    game_url = \"http://stats.nba.com/stats/boxscoreadvancedv2?EndPeriod=10&EndRange=28800&GameID=00%s&RangeType=0&StartPeriod=0&StartRange=0\" % gameID\n",
    "    print game_url\n",
    "    game_info = json.loads(requests.get(game_url).text)\n",
    "    return game_info"
   ]
  },
  {
   "cell_type": "code",
   "execution_count": 4,
   "metadata": {
    "collapsed": false
   },
   "outputs": [],
   "source": [
    "def get_advance_logs(game_info):    \n",
    "    players_logs = []\n",
    "    for player in game_info['resultSets'][0]['rowSet']:\n",
    "        player = [x if x != None else 'NULL' for x in player]    \n",
    "        game_id = int(player[0])\n",
    "        team_id =player[1]\n",
    "        team_abbreviation =  str(player[2])\n",
    "        team_city = str(player[3])\n",
    "        player_id = player[4]\n",
    "        player_name = str(player[5])\n",
    "        start_position = str(player[6])\n",
    "        comment = str(player[7])\n",
    "        if player[8] != 'NULL' :\n",
    "            mins = str('00:' + player[8])\n",
    "            off_rating = player[9]\n",
    "            def_rating = player[10]\n",
    "            net_rating = player[11]\n",
    "            ast_pct = player[12]\n",
    "            ast_tov = player[13]\n",
    "            ast_ratio = player[14]\n",
    "            oreb_pct = player[15]\n",
    "            dreb_pct = player[16]\n",
    "            reb_pct = player[17]\n",
    "            tm_tov_pct = player[18]\n",
    "            efg_pct = player[19]\n",
    "            ts_pct = player[20]\n",
    "            usg_pct = player[21]\n",
    "            pace = player[22]\n",
    "            pie = player[23]\n",
    "            \n",
    "        else: \n",
    "            mins = '00:00:00'\n",
    "            off_rating = 'NULL'\n",
    "            def_rating = 'NULL'\n",
    "            net_rating = 'NULL'\n",
    "            ast_pct = 'NULL'\n",
    "            ast_tov = 'NULL'\n",
    "            ast_ratio = 'NULL'\n",
    "            oreb_pct = 'NULL'\n",
    "            dreb_pct = 'NULL'\n",
    "            reb_pct = 'NULL'\n",
    "            tm_tov_pct = 'NULL'\n",
    "            efg_pct = 'NULL'\n",
    "            ts_pct = 'NULL'\n",
    "            usg_pct = 'NULL'\n",
    "            pace = 'NULL'\n",
    "            pie = 'NULL'\n",
    "\n",
    "        mins = re.sub(':60',':59', mins.rstrip())\n",
    "        player_log = (player_id, team_id, game_id, team_abbreviation, team_city,  player_name, \n",
    "                      start_position, comment, mins, off_rating, def_rating, net_rating, ast_pct, ast_tov, ast_ratio, oreb_pct, dreb_pct, reb_pct, tm_tov_pct, efg_pct, ts_pct, usg_pct, pace, pie)\n",
    "        players_logs.append(player_log)\n",
    "        \n",
    "    query = \"\"\"INSERT INTO advancedLog  VALUES \"\"\" \n",
    "    query += \",\".join([str(player) for player in players_logs])\n",
    "    query = query.replace(\"'NULL'\", \"NULL\")\n",
    "    return query"
   ]
  },
  {
   "cell_type": "code",
   "execution_count": 5,
   "metadata": {
    "collapsed": true
   },
   "outputs": [],
   "source": [
    "def db_commit(query):\n",
    "    try:\n",
    "        cursor.execute(query+ ';')\n",
    "        conn.commit()\n",
    "    except:     \n",
    "        conn.rollback()\n",
    "        print \"Game not added\""
   ]
  },
  {
   "cell_type": "code",
   "execution_count": 6,
   "metadata": {
    "collapsed": false,
    "scrolled": true
   },
   "outputs": [
    {
     "name": "stdout",
     "output_type": "stream",
     "text": [
      "http://stats.nba.com/stats/boxscoreadvancedv2?EndPeriod=10&EndRange=28800&GameID=0021400001&RangeType=0&StartPeriod=0&StartRange=0\n",
      "INSERT INTO advancedLog  VALUES (202699, 1610612753, 21400001, 'ORL', 'Orlando', 'Tobias Harris', 'F', '', '00:36:33', 88.5, 91.1, -2.5, 0.0, 0.0, 0.0, 0.051, 0.115, 0.088, 16.2, 0.528, 0.606, 0.3, 95.03, 0.184),(203124, 1610612753, 21400001, 'ORL', 'Orlando', \"Kyle O'Quinn\", 'F', '', '00:21:22', 85.7, 116.7, -31.0, 0.357, 5.0, 35.7, 0.0, 0.069, 0.04, 7.1, 0.25, 0.25, 0.19, 100.75, 0.027),(202696, 1610612753, 21400001, 'ORL', 'Orlando', 'Nikola Vucevic', 'C', '', '00:35:03', 93.5, 93.9, -0.3, 0.059, 1.0, 5.6, 0.139, 0.36, 0.267, 5.6, 0.467, 0.472, 0.218, 92.81, 0.271),(203095, 1610612753, 21400001, 'ORL', 'Orlando', 'Evan Fournier', 'G', '', '00:32:15', 91.1, 111.3, -20.2, 0.095, 0.5, 10.9, 0.029, 0.048, 0.039, 21.8, 0.364, 0.446, 0.215, 97.82, 0.012),(203901, 1610612753, 21400001, 'ORL', 'Orlando', 'Elfrid Payton', 'G', '', '00:30:46', 97.6, 92.4, 5.2, 0.35, 3.5, 41.2, 0.103, 0.048, 0.07, 11.8, 0.25, 0.25, 0.148, 92.83, 0.027),(203932, 1610612753, 21400001, 'ORL', 'Orlando', 'Aaron Gordon', '', '', '00:28:27', 81.3, 107.7, -26.4, 0.0, 0.0, 0.0, 0.063, 0.024, 0.041, 27.3, 0.688, 0.688, 0.165, 97.87, 0.076),(2732, 1610612753, 21400001, 'ORL', 'Orlando', 'Ben Gordon', '', '', '00:23:01', 78.5, 107.6, -29.1, 0.1, 0.0, 9.3, 0.0, 0.143, 0.071, 0.0, 0.125, 0.256, 0.182, 95.0, -0.018),(2557, 1610612753, 21400001, 'ORL', 'Orlando', 'Luke Ridnour', '', '', '00:17:14', 73.3, 121.5, -48.2, 0.1, 0.5, 14.5, 0.0, 0.083, 0.043, 29.1, 0.0, 0.258, 0.134, 102.89, -0.039),(203473, 1610612753, 21400001, 'ORL', 'Orlando', 'Dewayne Dedmon', '', '', '00:8:14', 97.0, 104.7, -7.6, 0.0, 0.0, 0.0, 0.222, 0.1, 0.158, 25.8, 0.5, 0.521, 0.172, 101.21, 0.062),(2584, 1610612753, 21400001, 'ORL', 'Orlando', 'Willie Green', '', '', '00:4:06', 64.4, 103.1, -38.7, 0.0, 0.0, 0.0, 0.25, 0.125, 0.167, 0.0, 0.0, 0.0, 0.102, 90.85, 0.5),(203906, 1610612753, 21400001, 'ORL', 'Orlando', 'Devyn Marble', '', '', '00:2:59', 145.3, 102.0, 43.3, 0.0, 0.0, 0.0, 0.0, 0.333, 0.143, 0.0, 1.0, 0.694, 0.291, 102.65, 0.16),(203090, 1610612753, 21400001, 'ORL', 'Orlando', 'Maurice Harkless', '', \"DNP - Coach's Decision                  \", '00:00:00', NULL, NULL, NULL, NULL, NULL, NULL, NULL, NULL, NULL, NULL, NULL, NULL, NULL, NULL, NULL),(203094, 1610612753, 21400001, 'ORL', 'Orlando', 'Andrew Nicholson', '', \"DNP - Coach's Decision                  \", '00:00:00', NULL, NULL, NULL, NULL, NULL, NULL, NULL, NULL, NULL, NULL, NULL, NULL, NULL, NULL, NULL),(201936, 1610612740, 21400001, 'NOP', 'New Orleans', 'Tyreke Evans', 'F', '', '00:34:40', 97.2, 83.1, 14.1, 0.25, 0.0, 25.9, 0.038, 0.2, 0.103, 0.0, 0.333, 0.349, 0.189, 93.67, 0.135),(203076, 1610612740, 21400001, 'NOP', 'New Orleans', 'Anthony Davis', 'F', '', '00:36:20', 109.4, 82.5, 26.8, 0.091, 0.0, 7.2, 0.18, 0.211, 0.193, 0.0, 0.455, 0.501, 0.281, 95.75, 0.272),(201600, 1610612740, 21400001, 'NOP', 'New Orleans', 'Omer Asik', 'C', '', '00:33:30', 97.6, 87.2, 10.4, 0.091, 0.67, 12.3, 0.156, 0.313, 0.221, 18.4, 0.7, 0.618, 0.165, 96.77, 0.189),(201569, 1610612740, 21400001, 'NOP', 'New Orleans', 'Eric Gordon', 'G', '', '00:31:31', 102.6, 76.8, 25.8, 0.0, 0.0, 0.0, 0.0, 0.121, 0.054, 24.4, 0.438, 0.429, 0.155, 95.86, 0.044),(201950, 1610612740, 21400001, 'NOP', 'New Orleans', 'Jrue Holiday', 'G', '', '00:27:02', 106.1, 85.9, 20.1, 0.19, 2.0, 23.5, 0.0, 0.074, 0.032, 11.8, 0.364, 0.364, 0.194, 93.54, 0.073),(201583, 1610612740, 21400001, 'NOP', 'New Orleans', 'Ryan Anderson', '', '', '00:22:21', 105.7, 72.8, 32.9, 0.0, 0.0, 0.0, 0.206, 0.074, 0.148, 0.0, 0.477, 0.472, 0.38, 95.53, 0.244),(2422, 1610612740, 21400001, 'NOP', 'New Orleans', 'John Salmons', '', '', '00:9:32', 130.8, 94.9, 35.9, 0.1, 0.0, 100.0, 0.091, 0.1, 0.095, 0.0, 0.0, 0.0, 0.0, 101.68, -0.014),(202690, 1610612740, 21400001, 'NOP', 'New Orleans', 'Jimmer Fredette', '', '', '00:17:48', 103.4, 100.8, 2.6, 0.133, 0.0, 22.5, 0.0, 0.0, 0.0, 0.0, 0.0, 0.145, 0.144, 99.02, -0.075),(203085, 1610612740, 21400001, 'NOP', 'New Orleans', 'Austin Rivers', '', '', '00:19:49', 102.2, 95.7, 6.6, 0.214, 0.0, 28.2, 0.0, 0.042, 0.019, 0.0, 0.4, 0.458, 0.141, 100.23, 0.085),(203481, 1610612740, 21400001, 'NOP', 'New Orleans', 'Jeff Withey', '', '', '00:2:29', 82.0, 170.1, -88.1, 0.0, 0.0, 0.0, 0.0, 0.25, 0.167, 0.0, 0.0, 0.0, 0.205, 103.99, 0.0),(202337, 1610612740, 21400001, 'NOP', 'New Orleans', 'Luke Babbitt', '', '', '00:2:29', 82.0, 170.1, -88.1, 0.0, 0.0, 0.0, 0.0, 0.0, 0.0, 0.0, 0.0, 0.0, 0.0, 103.99, 0.0),(201582, 1610612740, 21400001, 'NOP', 'New Orleans', 'Alexis Ajinca', '', '', '00:2:29', 82.0, 170.1, -88.1, 0.0, 0.0, 0.0, 0.0, 0.0, 0.0, 50.0, 1.0, 1.0, 0.41, 103.99, 0.077),(203121, 1610612740, 21400001, 'NOP', 'New Orleans', 'Darius Miller', '', \"DNP - Coach's Decision                  \", '00:00:00', NULL, NULL, NULL, NULL, NULL, NULL, NULL, NULL, NULL, NULL, NULL, NULL, NULL, NULL, NULL)\n",
      "http://stats.nba.com/stats/boxscoreadvancedv2?EndPeriod=10&EndRange=28800&GameID=0021400002&RangeType=0&StartPeriod=0&StartRange=0\n",
      "INSERT INTO advancedLog  VALUES (202718, 1610612742, 21400002, 'DAL', 'Dallas', 'Chandler Parsons', 'F', '', '00:33:49', 114.0, 112.2, 1.8, 0.0, 0.0, 0.0, 0.0, 0.148, 0.073, 9.1, 0.25, 0.25, 0.159, 89.11, 0.004),(1717, 1610612742, 21400002, 'DAL', 'Dallas', 'Dirk Nowitzki', 'F', '', '00:31:40', 109.1, 106.6, 2.5, 0.118, 2.0, 12.7, 0.074, 0.19, 0.125, 6.3, 0.636, 0.705, 0.213, 89.95, 0.163),(2199, 1610612742, 21400002, 'DAL', 'Dallas', 'Tyson Chandler', 'C', '', '00:27:45', 99.0, 112.3, -13.3, 0.0, 0.0, 0.0, 0.12, 0.389, 0.233, 11.1, 0.5, 0.5, 0.159, 88.35, 0.089),(101145, 1610612742, 21400002, 'DAL', 'Dallas', 'Monta Ellis', 'G', '', '00:37:13', 115.7, 106.9, 8.8, 0.316, 2.0, 18.9, 0.033, 0.097, 0.066, 9.4, 0.548, 0.571, 0.342, 89.28, 0.17),(2749, 1610612742, 21400002, 'DAL', 'Dallas', 'Jameer Nelson', 'G', '', '00:30:28', 113.5, 109.2, 4.2, 0.143, 0.0, 30.0, 0.0, 0.0, 0.0, 0.0, 0.643, 0.643, 0.112, 88.42, 0.084),(202962, 1610612742, 21400002, 'DAL', 'Dallas', 'Greg Smith', '', '', '00:2:11', 166.7, 84.0, 82.6, 0.0, 0.0, 0.0, 0.0, 0.0, 0.0, 0.0, 0.0, 0.0, 0.0, 85.3, -0.182),(2734, 1610612742, 21400002, 'DAL', 'Dallas', 'Devin Harris', '', '', '00:29:07', 126.0, 128.6, -2.7, 0.278, 5.0, 25.3, 0.0, 0.0, 0.0, 5.1, 0.583, 0.618, 0.265, 85.46, 0.124),(201148, 1610612742, 21400002, 'DAL', 'Dallas', 'Brandan Wright', '', '', '00:18:04', 133.0, 119.5, 13.5, 0.0, 0.0, 0.0, 0.083, 0.286, 0.192, 0.0, 1.0, 1.042, 0.078, 88.31, 0.131),(202329, 1610612742, 21400002, 'DAL', 'Dallas', 'Al-Farouq Aminu', '', '', '00:5:29', 113.6, 119.5, -5.8, 0.0, 0.0, 0.0, 0.25, 0.5, 0.333, 33.3, 0.0, 0.0, 0.241, 97.69, -0.106),(203109, 1610612742, 21400002, 'DAL', 'Dallas', 'Jae Crowder', '', '', '00:10:52', 99.0, 130.1, -31.1, 0.0, 0.0, 0.0, 0.0, 0.0, 0.0, 29.1, 1.0, 1.025, 0.162, 88.26, 0.078),(2210, 1610612742, 21400002, 'DAL', 'Dallas', 'Richard Jefferson', '', '', '00:13:22', 115.5, 112.6, 2.8, 0.125, 1.0, 14.8, 0.1, 0.111, 0.105, 14.8, 0.5, 0.63, 0.235, 80.3, 0.065),(203539, 1610612742, 21400002, 'DAL', 'Dallas', 'Gal Mekel', '', \"DNP - Coach's Decision                  \", '00:00:00', NULL, NULL, NULL, NULL, NULL, NULL, NULL, NULL, NULL, NULL, NULL, NULL, NULL, NULL, NULL),(101111, 1610612742, 21400002, 'DAL', 'Dallas', 'Charlie Villanueva', '', \"DNP - Coach's Decision                  \", '00:00:00', NULL, NULL, NULL, NULL, NULL, NULL, NULL, NULL, NULL, NULL, NULL, NULL, NULL, NULL, NULL),(201158, 1610612759, 21400002, 'SAS', 'San Antonio', 'Marco Belinelli', 'F', '', '00:30:45', 113.9, 97.3, 16.6, 0.15, 1.5, 21.6, 0.0, 0.067, 0.039, 14.4, 0.813, 0.845, 0.168, 89.26, 0.157),(1495, 1610612759, 21400002, 'SAS', 'San Antonio', 'Tim Duncan', 'F', '', '00:30:11', 98.5, 106.4, -7.9, 0.133, 0.4, 10.4, 0.185, 0.308, 0.245, 26.0, 0.5, 0.574, 0.265, 88.55, 0.189),(2588, 1610612759, 21400002, 'SAS', 'San Antonio', 'Matt Bonner', 'C', '', '00:14:32', 99.7, 83.1, 16.6, 0.0, 0.0, 0.0, 0.0, 0.118, 0.067, 0.0, 0.0, 0.0, 0.06, 97.37, -0.079),(201980, 1610612759, 21400002, 'SAS', 'San Antonio', 'Danny Green', 'G', '', '00:34:02', 102.6, 109.6, -7.0, 0.05, 0.33, 7.7, 0.083, 0.071, 0.077, 23.1, 0.722, 0.722, 0.168, 93.09, 0.061),(2225, 1610612759, 21400002, 'SAS', 'San Antonio', 'Tony Parker', 'G', '', '00:34:50', 108.8, 119.8, -11.0, 0.176, 3.0, 15.1, 0.036, 0.071, 0.054, 5.0, 0.733, 0.724, 0.23, 89.27, 0.144),(1938, 1610612759, 21400002, 'SAS', 'San Antonio', 'Manu Ginobili', '', '', '00:27:41', 125.1, 135.8, -10.7, 0.4, 2.0, 23.9, 0.0, 0.125, 0.059, 12.0, 0.538, 0.622, 0.354, 83.71, 0.129),(2564, 1610612759, 21400002, 'SAS', 'San Antonio', 'Boris Diaw', '', '', '00:33:28', 120.4, 130.0, -9.5, 0.25, 1.5, 37.5, 0.05, 0.381, 0.22, 25.0, 0.417, 0.417, 0.154, 84.22, 0.072),(203382, 1610612759, 21400002, 'SAS', 'San Antonio', 'Aron Baynes', '', '', '00:17:49', 139.8, 127.9, 11.9, 0.0, 0.0, 0.0, 0.0, 0.167, 0.111, 40.0, 0.667, 0.667, 0.151, 87.61, 0.006),(202709, 1610612759, 21400002, 'SAS', 'San Antonio', 'Cory Joseph', '', '', '00:16:42', 128.7, 110.9, 17.8, 0.182, 0.0, 33.3, 0.0, 0.083, 0.05, 0.0, 0.875, 0.875, 0.13, 81.51, 0.147),(203937, 1610612759, 21400002, 'SAS', 'San Antonio', 'Kyle Anderson', '', \"DNP - Coach's Decision                  \", '00:00:00', NULL, NULL, NULL, NULL, NULL, NULL, NULL, NULL, NULL, NULL, NULL, NULL, NULL, NULL, NULL),(201965, 1610612759, 21400002, 'SAS', 'San Antonio', 'Jeff Ayres', '', \"DNP - Coach's Decision                  \", '00:00:00', NULL, NULL, NULL, NULL, NULL, NULL, NULL, NULL, NULL, NULL, NULL, NULL, NULL, NULL, NULL),(201948, 1610612759, 21400002, 'SAS', 'San Antonio', 'Austin Daye', '', \"DNP - Coach's Decision                  \", '00:00:00', NULL, NULL, NULL, NULL, NULL, NULL, NULL, NULL, NULL, NULL, NULL, NULL, NULL, NULL, NULL)\n"
     ]
    }
   ],
   "source": [
    "# conn = MySQLdb.connect(host='dev-db.cycgavlmx4or.us-east-1.rds.amazonaws.com', user='admin', passwd='Look4more', db='nba_data')\n",
    "# cursor = conn.cursor()\n",
    "\n",
    "for game in gamesss:\n",
    "    game_info = get_advanced_box(game)\n",
    "    advanced_log_query = get_advance_logs(game_info)\n",
    "    print advanced_log_query\n",
    "#     db_commit(advanced_log_query)\n",
    "\n",
    "    \n",
    "# conn.close()    "
   ]
  },
  {
   "cell_type": "code",
   "execution_count": null,
   "metadata": {
    "collapsed": true
   },
   "outputs": [],
   "source": []
  }
 ],
 "metadata": {
  "kernelspec": {
   "display_name": "Python 2",
   "language": "python",
   "name": "python2"
  },
  "language_info": {
   "codemirror_mode": {
    "name": "ipython",
    "version": 2
   },
   "file_extension": ".py",
   "mimetype": "text/x-python",
   "name": "python",
   "nbconvert_exporter": "python",
   "pygments_lexer": "ipython2",
   "version": "2.7.10"
  }
 },
 "nbformat": 4,
 "nbformat_minor": 0
}
