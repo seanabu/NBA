{
 "cells": [
  {
   "cell_type": "code",
   "execution_count": null,
   "metadata": {
    "collapsed": true
   },
   "outputs": [],
   "source": [
    "import requests, json\n",
    "import MySQLdb\n",
    "import re"
   ]
  },
  {
   "cell_type": "code",
   "execution_count": null,
   "metadata": {
    "collapsed": true
   },
   "outputs": [],
   "source": [
    "\n",
    "def last_years(playerID):\n",
    "    stats_url = \"http://stats.nba.com/stats/playerdashboardbygeneralsplits?DateFrom=&DateTo=&GameSegment=&LastNGames=0&LeagueID=00&Location=&MeasureType=Base&Month=0&OpponentTeamID=0&Outcome=&PORound=0&PaceAdjust=N&PerMode=PerGame&Period=0&PlayerID=%s&PlusMinus=N&Rank=N&Season=2014-15&SeasonSegment=Post+All-Star&SeasonType=Regular+Season&ShotClockRange=&VsConference=&VsDivision=\" % playerID\n",
    "    stats = json.loads(requests.get(stats_url).text)\n",
    "    return stats\n"
   ]
  },
  {
   "cell_type": "code",
   "execution_count": null,
   "metadata": {
    "collapsed": true
   },
   "outputs": [],
   "source": [
    "def get_stats(stats, playerID):    \n",
    "    MIN = stats['resultSets'][0]['rowSet'][0][6]\n",
    "    FGM = stats['resultSets'][0]['rowSet'][0][7]\n",
    "    FGA = stats['resultSets'][0]['rowSet'][0][8]\n",
    "    FG_PCT = stats['resultSets'][0]['rowSet'][0][9]\n",
    "    FG3M = stats['resultSets'][0]['rowSet'][0][10]\n",
    "    FG3A = stats['resultSets'][0]['rowSet'][0][11]\n",
    "    FG3_PCT = stats['resultSets'][0]['rowSet'][0][12]\n",
    "    FTM = stats['resultSets'][0]['rowSet'][0][13]\n",
    "    FTA = stats['resultSets'][0]['rowSet'][0][14]\n",
    "    FT_PCT = stats['resultSets'][0]['rowSet'][0][15]\n",
    "    OREB = stats['resultSets'][0]['rowSet'][0][16]\n",
    "    DREB = stats['resultSets'][0]['rowSet'][0][17]\n",
    "    REB = stats['resultSets'][0]['rowSet'][0][18]\n",
    "    AST = stats['resultSets'][0]['rowSet'][0][19]\n",
    "    TOV = stats['resultSets'][0]['rowSet'][0][20]\n",
    "    STL = stats['resultSets'][0]['rowSet'][0][21]\n",
    "    BLK = stats['resultSets'][0]['rowSet'][0][22]\n",
    "    PF = stats['resultSets'][0]['rowSet'][0][24]\n",
    "    PTS = stats['resultSets'][0]['rowSet'][0][26]\n",
    "    GMS = 5\n",
    "    \n",
    "    (playerID, GMS, int(MIN*5), int(FGM*5), int(FGA*5), FG_PCT*5, int(FG3M*5), int(FG3A*5), FG3_PCT*5, \n",
    "    int(FTM*5), int(FTA*5), FT_PCT*5, int(OREB*5), int(DREB*5), int(REB*5), int(AST*5), \n",
    "    int(TOV*5), int(STL*5), int(BLK*5), int(PF*5), int(PTS*5))\n",
    "    \n",
    "    query = \"\"\"INSERT INTO totals  VALUES \"\"\" \n",
    "    query += \",\".join([str(player) for player in players_logs])\n",
    "    query = query.replace(\"'NULL'\", \"NULL\")\n",
    "    return query    "
   ]
  },
  {
   "cell_type": "code",
   "execution_count": null,
   "metadata": {
    "collapsed": true
   },
   "outputs": [],
   "source": []
  },
  {
   "cell_type": "code",
   "execution_count": null,
   "metadata": {
    "collapsed": true
   },
   "outputs": [],
   "source": []
  }
 ],
 "metadata": {
  "kernelspec": {
   "display_name": "Python 2",
   "language": "python",
   "name": "python2"
  },
  "language_info": {
   "codemirror_mode": {
    "name": "ipython",
    "version": 2
   },
   "file_extension": ".py",
   "mimetype": "text/x-python",
   "name": "python",
   "nbconvert_exporter": "python",
   "pygments_lexer": "ipython2",
   "version": "2.7.10"
  }
 },
 "nbformat": 4,
 "nbformat_minor": 0
}
