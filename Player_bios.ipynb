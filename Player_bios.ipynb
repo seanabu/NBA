{
 "cells": [
  {
   "cell_type": "code",
   "execution_count": 30,
   "metadata": {
    "collapsed": false
   },
   "outputs": [],
   "source": [
    "import requests, json\n",
    "import MySQLdb"
   ]
  },
  {
   "cell_type": "code",
   "execution_count": 31,
   "metadata": {
    "collapsed": true
   },
   "outputs": [],
   "source": [
    "def get_value(listOfDicts, key):\n",
    "    for subVal in listOfDicts:\n",
    "        if key in subVal:\n",
    "            return subVal[key]"
   ]
  },
  {
   "cell_type": "code",
   "execution_count": 44,
   "metadata": {
    "collapsed": false
   },
   "outputs": [],
   "source": [
    "def playerid_list():\n",
    "\tendpoint = \"http://stats.nba.com/stats/commonallplayers?IsOnlyCurrentSeason=1&LeagueID=00&Season=2013-14\"\n",
    "\tplayers = json.loads(requests.get(endpoint).text)\n",
    "\tresults =players['resultSets']\n",
    "\tplayer_list = get_value(results, 'rowSet')\n",
    "\tfor i in range(len(player_list)):\n",
    "\t\tplayerids.append(player_list[i][0])"
   ]
  },
  {
   "cell_type": "code",
   "execution_count": 33,
   "metadata": {
    "collapsed": true
   },
   "outputs": [],
   "source": [
    "def player_bio(i):\n",
    "\tplayerlink= \"http://stats.nba.com/stats/commonplayerinfo?PlayerID=%s\" % i\n",
    "\tplayerbio= json.loads(requests.get(playerlink).text)\n",
    "\tinfo = playerbio['resultSets']\n",
    "\tplayer_info = get_value(info, 'rowSet')\n",
    "\treturn player_info"
   ]
  },
  {
   "cell_type": "code",
   "execution_count": 57,
   "metadata": {
    "collapsed": true
   },
   "outputs": [],
   "source": [
    "\tplayerids=[203942, 204067, 204040, 203254, 203296]\n",
    "\tplayers_bios=[]"
   ]
  },
  {
   "cell_type": "code",
   "execution_count": null,
   "metadata": {
    "collapsed": true
   },
   "outputs": [],
   "source": [
    "203942"
   ]
  },
  {
   "cell_type": "code",
   "execution_count": 61,
   "metadata": {
    "collapsed": false
   },
   "outputs": [
    {
     "name": "stdout",
     "output_type": "stream",
     "text": [
      "(203942, u'Patric', u'Young', u'1992-02-01T00:00:00', 0, 0, u'', 0, 0)\n",
      "(203942, 'Patric', 'Young', '1992-02-01T00:00:00', 0, 0, '', 0, 0)\n",
      "(204067, u'Jarell', u'Eddie', u'1991-10-30T00:00:00', 0, 0, u'', 0, 0)\n",
      "(204067, 'Jarell', 'Eddie', '1991-10-30T00:00:00', 0, 0, '', 0, 0)\n",
      "(204040, u'Ronald', u'Roberts', u'1991-08-05T00:00:00', 0, 0, u'', 0, 0)\n",
      "(204040, 'Ronald', 'Roberts', '1991-08-05T00:00:00', 0, 0, '', 0, 0)\n",
      "(203254, u'JaMychal', u'Green', u'1990-06-21T00:00:00', 0, 0, u'', 0, 0)\n",
      "(203254, 'JaMychal', 'Green', '1990-06-21T00:00:00', 0, 0, '', 0, 0)\n",
      "(203296, u'Quincy', u'Miller', u'1992-11-18T00:00:00', 0, 0, u'', 0, 0)\n",
      "(203296, 'Quincy', 'Miller', '1992-11-18T00:00:00', 0, 0, '', 0, 0)\n"
     ]
    }
   ],
   "source": [
    "# playerid_list()\n",
    "players_bios = []\n",
    "for i in playerids:\n",
    "    player_info = player_bio(i)\n",
    "    playerid= player_info[0][0]\n",
    "    first_name = player_info[0][1]\n",
    "    last_name = player_info[0][2]\n",
    "    birthdate = player_info[0][6]\n",
    "    season_exp = player_info[0][12]\n",
    "    current_team = player_info[0][16]\n",
    "    position = player_info[0][14]\n",
    "    from_year = player_info[0][22]\n",
    "    if from_year == None:\n",
    "        from_year = 0\n",
    "    to_year = player_info[0][23]\n",
    "    if to_year == None:\n",
    "        to_year = 0\n",
    "    \n",
    "    print (playerid, first_name, last_name, birthdate, season_exp, current_team, \n",
    "    position, from_year, to_year) \n",
    "    info=(int(playerid), str(first_name), str(last_name), str(birthdate), int(season_exp), int(current_team), \n",
    "    str(position), int(from_year), int(to_year)) \n",
    "    print info\n",
    "    players_bios.append(info)"
   ]
  },
  {
   "cell_type": "code",
   "execution_count": 62,
   "metadata": {
    "collapsed": true
   },
   "outputs": [],
   "source": [
    "query =\"\"\"INSERT IGNORE INTO players (playerID, first_name, last_name, birthdate, season_exp, current_team, position, from_year, to_year)  VALUES \"\"\" \n",
    "        "
   ]
  },
  {
   "cell_type": "code",
   "execution_count": 63,
   "metadata": {
    "collapsed": false
   },
   "outputs": [],
   "source": [
    "query += \",\".join([str(player) for player in players_bios])"
   ]
  },
  {
   "cell_type": "code",
   "execution_count": 66,
   "metadata": {
    "collapsed": false,
    "scrolled": true
   },
   "outputs": [],
   "source": [
    "db_commit(query)"
   ]
  },
  {
   "cell_type": "code",
   "execution_count": 39,
   "metadata": {
    "collapsed": true
   },
   "outputs": [],
   "source": [
    "def db_commit(query):\n",
    "    cursor.execute(query+ ';')\n",
    "    conn.commit()"
   ]
  },
  {
   "cell_type": "code",
   "execution_count": 65,
   "metadata": {
    "collapsed": false
   },
   "outputs": [],
   "source": [
    "conn = MySQLdb.connect(host='', user='', passwd='', db='nba_data')\n",
    "cursor = conn.cursor()"
   ]
  },
  {
   "cell_type": "code",
   "execution_count": 64,
   "metadata": {
    "collapsed": false,
    "scrolled": false
   },
   "outputs": [
    {
     "name": "stdout",
     "output_type": "stream",
     "text": [
      "INSERT IGNORE INTO players (playerID, first_name, last_name, birthdate, season_exp, current_team, position, from_year, to_year)  VALUES (203942, 'Patric', 'Young', '1992-02-01T00:00:00', 0, 0, '', 0, 0),(204067, 'Jarell', 'Eddie', '1991-10-30T00:00:00', 0, 0, '', 0, 0),(204040, 'Ronald', 'Roberts', '1991-08-05T00:00:00', 0, 0, '', 0, 0),(203254, 'JaMychal', 'Green', '1990-06-21T00:00:00', 0, 0, '', 0, 0),(203296, 'Quincy', 'Miller', '1992-11-18T00:00:00', 0, 0, '', 0, 0)\n"
     ]
    }
   ],
   "source": [
    "print query"
   ]
  },
  {
   "cell_type": "code",
   "execution_count": 67,
   "metadata": {
    "collapsed": false
   },
   "outputs": [],
   "source": [
    "\n",
    "    \n",
    "conn.close()"
   ]
  },
  {
   "cell_type": "code",
   "execution_count": null,
   "metadata": {
    "collapsed": true
   },
   "outputs": [],
   "source": []
  }
 ],
 "metadata": {
  "kernelspec": {
   "display_name": "Python 2",
   "language": "python",
   "name": "python2"
  },
  "language_info": {
   "codemirror_mode": {
    "name": "ipython",
    "version": 2
   },
   "file_extension": ".py",
   "mimetype": "text/x-python",
   "name": "python",
   "nbconvert_exporter": "python",
   "pygments_lexer": "ipython2",
   "version": "2.7.10"
  }
 },
 "nbformat": 4,
 "nbformat_minor": 0
}
